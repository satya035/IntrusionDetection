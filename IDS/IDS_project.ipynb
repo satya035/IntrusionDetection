{
  "cells": [
    {
      "cell_type": "code",
      "execution_count": 2,
      "metadata": {},
      "outputs": [],
      "source": [
        "#https://www.kaggle.com/datasets/solarmainframe/ids-intrusion-csv  #dataset is available through kaggle"
      ]
    },
    {
      "cell_type": "code",
      "execution_count": 3,
      "metadata": {
        "id": "7AEHc9jC765o"
      },
      "outputs": [],
      "source": [
        "import pandas as pd\n",
        "import numpy as np\n",
        "import matplotlib.pyplot as plt"
      ]
    },
    {
      "cell_type": "code",
      "execution_count": 51,
      "metadata": {
        "colab": {
          "base_uri": "https://localhost:8080/",
          "height": 390
        },
        "id": "0abLLYNXqpy3",
        "outputId": "675fd683-5d62-4744-cd67-fabbbbc0183e"
      },
      "outputs": [],
      "source": [
        "# data_folder = 'C:\\\\Users\\\\satya\\\\OneDrive\\\\Desktop\\\\03-02-2018.csv' \n",
        "# df = pd.read_csv(data_folder)"
      ]
    },
    {
      "cell_type": "code",
      "execution_count": 52,
      "metadata": {
        "id": "sdlUkX2C-1BT"
      },
      "outputs": [
        {
          "data": {
            "text/plain": [
              "(125, 1034)"
            ]
          },
          "execution_count": 52,
          "metadata": {},
          "output_type": "execute_result"
        }
      ],
      "source": [
        "df.shape"
      ]
    },
    {
      "cell_type": "code",
      "execution_count": 18,
      "metadata": {
        "id": "Qsz5b3nX_n8j"
      },
      "outputs": [
        {
          "data": {
            "text/html": [
              "<div>\n",
              "<style scoped>\n",
              "    .dataframe tbody tr th:only-of-type {\n",
              "        vertical-align: middle;\n",
              "    }\n",
              "\n",
              "    .dataframe tbody tr th {\n",
              "        vertical-align: top;\n",
              "    }\n",
              "\n",
              "    .dataframe thead th {\n",
              "        text-align: right;\n",
              "    }\n",
              "</style>\n",
              "<table border=\"1\" class=\"dataframe\">\n",
              "  <thead>\n",
              "    <tr style=\"text-align: right;\">\n",
              "      <th></th>\n",
              "      <th>Dst Port</th>\n",
              "      <th>Protocol</th>\n",
              "      <th>Timestamp</th>\n",
              "      <th>Flow Duration</th>\n",
              "      <th>Tot Fwd Pkts</th>\n",
              "      <th>Tot Bwd Pkts</th>\n",
              "      <th>TotLen Fwd Pkts</th>\n",
              "      <th>TotLen Bwd Pkts</th>\n",
              "      <th>Fwd Pkt Len Max</th>\n",
              "      <th>Fwd Pkt Len Min</th>\n",
              "      <th>...</th>\n",
              "      <th>Fwd Seg Size Min</th>\n",
              "      <th>Active Mean</th>\n",
              "      <th>Active Std</th>\n",
              "      <th>Active Max</th>\n",
              "      <th>Active Min</th>\n",
              "      <th>Idle Mean</th>\n",
              "      <th>Idle Std</th>\n",
              "      <th>Idle Max</th>\n",
              "      <th>Idle Min</th>\n",
              "      <th>Label</th>\n",
              "    </tr>\n",
              "  </thead>\n",
              "  <tbody>\n",
              "    <tr>\n",
              "      <th>0</th>\n",
              "      <td>443</td>\n",
              "      <td>6</td>\n",
              "      <td>02/03/2018 08:47:38</td>\n",
              "      <td>141385</td>\n",
              "      <td>9</td>\n",
              "      <td>7</td>\n",
              "      <td>553</td>\n",
              "      <td>3773.0</td>\n",
              "      <td>202</td>\n",
              "      <td>0</td>\n",
              "      <td>...</td>\n",
              "      <td>20</td>\n",
              "      <td>0.0</td>\n",
              "      <td>0.0</td>\n",
              "      <td>0.0</td>\n",
              "      <td>0.0</td>\n",
              "      <td>0.0</td>\n",
              "      <td>0.0</td>\n",
              "      <td>0.0</td>\n",
              "      <td>0.0</td>\n",
              "      <td>Benign</td>\n",
              "    </tr>\n",
              "    <tr>\n",
              "      <th>1</th>\n",
              "      <td>49684</td>\n",
              "      <td>6</td>\n",
              "      <td>02/03/2018 08:47:38</td>\n",
              "      <td>281</td>\n",
              "      <td>2</td>\n",
              "      <td>1</td>\n",
              "      <td>38</td>\n",
              "      <td>0.0</td>\n",
              "      <td>38</td>\n",
              "      <td>0</td>\n",
              "      <td>...</td>\n",
              "      <td>20</td>\n",
              "      <td>0.0</td>\n",
              "      <td>0.0</td>\n",
              "      <td>0.0</td>\n",
              "      <td>0.0</td>\n",
              "      <td>0.0</td>\n",
              "      <td>0.0</td>\n",
              "      <td>0.0</td>\n",
              "      <td>0.0</td>\n",
              "      <td>Benign</td>\n",
              "    </tr>\n",
              "    <tr>\n",
              "      <th>2</th>\n",
              "      <td>443</td>\n",
              "      <td>6</td>\n",
              "      <td>02/03/2018 08:47:40</td>\n",
              "      <td>279824</td>\n",
              "      <td>11</td>\n",
              "      <td>15</td>\n",
              "      <td>1086</td>\n",
              "      <td>10527.0</td>\n",
              "      <td>385</td>\n",
              "      <td>0</td>\n",
              "      <td>...</td>\n",
              "      <td>20</td>\n",
              "      <td>0.0</td>\n",
              "      <td>0.0</td>\n",
              "      <td>0.0</td>\n",
              "      <td>0.0</td>\n",
              "      <td>0.0</td>\n",
              "      <td>0.0</td>\n",
              "      <td>0.0</td>\n",
              "      <td>0.0</td>\n",
              "      <td>Benign</td>\n",
              "    </tr>\n",
              "    <tr>\n",
              "      <th>3</th>\n",
              "      <td>443</td>\n",
              "      <td>6</td>\n",
              "      <td>02/03/2018 08:47:40</td>\n",
              "      <td>132</td>\n",
              "      <td>2</td>\n",
              "      <td>0</td>\n",
              "      <td>0</td>\n",
              "      <td>0.0</td>\n",
              "      <td>0</td>\n",
              "      <td>0</td>\n",
              "      <td>...</td>\n",
              "      <td>20</td>\n",
              "      <td>0.0</td>\n",
              "      <td>0.0</td>\n",
              "      <td>0.0</td>\n",
              "      <td>0.0</td>\n",
              "      <td>0.0</td>\n",
              "      <td>0.0</td>\n",
              "      <td>0.0</td>\n",
              "      <td>0.0</td>\n",
              "      <td>Benign</td>\n",
              "    </tr>\n",
              "    <tr>\n",
              "      <th>4</th>\n",
              "      <td>443</td>\n",
              "      <td>6</td>\n",
              "      <td>02/03/2018 08:47:41</td>\n",
              "      <td>274016</td>\n",
              "      <td>9</td>\n",
              "      <td>13</td>\n",
              "      <td>1285</td>\n",
              "      <td>6141.0</td>\n",
              "      <td>517</td>\n",
              "      <td>0</td>\n",
              "      <td>...</td>\n",
              "      <td>20</td>\n",
              "      <td>0.0</td>\n",
              "      <td>0.0</td>\n",
              "      <td>0.0</td>\n",
              "      <td>0.0</td>\n",
              "      <td>0.0</td>\n",
              "      <td>0.0</td>\n",
              "      <td>0.0</td>\n",
              "      <td>0.0</td>\n",
              "      <td>Benign</td>\n",
              "    </tr>\n",
              "  </tbody>\n",
              "</table>\n",
              "<p>5 rows × 80 columns</p>\n",
              "</div>"
            ],
            "text/plain": [
              "   Dst Port  Protocol            Timestamp  Flow Duration  Tot Fwd Pkts  \\\n",
              "0       443         6  02/03/2018 08:47:38         141385             9   \n",
              "1     49684         6  02/03/2018 08:47:38            281             2   \n",
              "2       443         6  02/03/2018 08:47:40         279824            11   \n",
              "3       443         6  02/03/2018 08:47:40            132             2   \n",
              "4       443         6  02/03/2018 08:47:41         274016             9   \n",
              "\n",
              "   Tot Bwd Pkts  TotLen Fwd Pkts  TotLen Bwd Pkts  Fwd Pkt Len Max  \\\n",
              "0             7              553           3773.0              202   \n",
              "1             1               38              0.0               38   \n",
              "2            15             1086          10527.0              385   \n",
              "3             0                0              0.0                0   \n",
              "4            13             1285           6141.0              517   \n",
              "\n",
              "   Fwd Pkt Len Min  ...  Fwd Seg Size Min  Active Mean  Active Std  \\\n",
              "0                0  ...                20          0.0         0.0   \n",
              "1                0  ...                20          0.0         0.0   \n",
              "2                0  ...                20          0.0         0.0   \n",
              "3                0  ...                20          0.0         0.0   \n",
              "4                0  ...                20          0.0         0.0   \n",
              "\n",
              "   Active Max  Active Min  Idle Mean  Idle Std  Idle Max  Idle Min   Label  \n",
              "0         0.0         0.0        0.0       0.0       0.0       0.0  Benign  \n",
              "1         0.0         0.0        0.0       0.0       0.0       0.0  Benign  \n",
              "2         0.0         0.0        0.0       0.0       0.0       0.0  Benign  \n",
              "3         0.0         0.0        0.0       0.0       0.0       0.0  Benign  \n",
              "4         0.0         0.0        0.0       0.0       0.0       0.0  Benign  \n",
              "\n",
              "[5 rows x 80 columns]"
            ]
          },
          "execution_count": 18,
          "metadata": {},
          "output_type": "execute_result"
        }
      ],
      "source": [
        "df.head()"
      ]
    },
    {
      "cell_type": "code",
      "execution_count": 19,
      "metadata": {
        "id": "RalvKnUcRa_h"
      },
      "outputs": [],
      "source": [
        "df['Timestamp'] = pd.to_datetime(df['Timestamp'], errors='coerce')\n",
        "df['Timestamp'] = (df['Timestamp'] - df['Timestamp'].iloc[0])/pd.to_timedelta('1Min')"
      ]
    },
    {
      "cell_type": "code",
      "execution_count": 20,
      "metadata": {
        "id": "S9aaXayMIZv_"
      },
      "outputs": [
        {
          "data": {
            "text/html": [
              "<div>\n",
              "<style scoped>\n",
              "    .dataframe tbody tr th:only-of-type {\n",
              "        vertical-align: middle;\n",
              "    }\n",
              "\n",
              "    .dataframe tbody tr th {\n",
              "        vertical-align: top;\n",
              "    }\n",
              "\n",
              "    .dataframe thead th {\n",
              "        text-align: right;\n",
              "    }\n",
              "</style>\n",
              "<table border=\"1\" class=\"dataframe\">\n",
              "  <thead>\n",
              "    <tr style=\"text-align: right;\">\n",
              "      <th></th>\n",
              "      <th>Dst Port</th>\n",
              "      <th>Protocol</th>\n",
              "      <th>Timestamp</th>\n",
              "      <th>Flow Duration</th>\n",
              "      <th>Tot Fwd Pkts</th>\n",
              "      <th>Tot Bwd Pkts</th>\n",
              "      <th>TotLen Fwd Pkts</th>\n",
              "      <th>TotLen Bwd Pkts</th>\n",
              "      <th>Fwd Pkt Len Max</th>\n",
              "      <th>Fwd Pkt Len Min</th>\n",
              "      <th>...</th>\n",
              "      <th>Fwd Seg Size Min</th>\n",
              "      <th>Active Mean</th>\n",
              "      <th>Active Std</th>\n",
              "      <th>Active Max</th>\n",
              "      <th>Active Min</th>\n",
              "      <th>Idle Mean</th>\n",
              "      <th>Idle Std</th>\n",
              "      <th>Idle Max</th>\n",
              "      <th>Idle Min</th>\n",
              "      <th>Label</th>\n",
              "    </tr>\n",
              "  </thead>\n",
              "  <tbody>\n",
              "    <tr>\n",
              "      <th>0</th>\n",
              "      <td>443</td>\n",
              "      <td>6</td>\n",
              "      <td>0.000000</td>\n",
              "      <td>141385</td>\n",
              "      <td>9</td>\n",
              "      <td>7</td>\n",
              "      <td>553</td>\n",
              "      <td>3773.0</td>\n",
              "      <td>202</td>\n",
              "      <td>0</td>\n",
              "      <td>...</td>\n",
              "      <td>20</td>\n",
              "      <td>0.0</td>\n",
              "      <td>0.0</td>\n",
              "      <td>0.0</td>\n",
              "      <td>0.0</td>\n",
              "      <td>0.0</td>\n",
              "      <td>0.0</td>\n",
              "      <td>0.0</td>\n",
              "      <td>0.0</td>\n",
              "      <td>Benign</td>\n",
              "    </tr>\n",
              "    <tr>\n",
              "      <th>1</th>\n",
              "      <td>49684</td>\n",
              "      <td>6</td>\n",
              "      <td>0.000000</td>\n",
              "      <td>281</td>\n",
              "      <td>2</td>\n",
              "      <td>1</td>\n",
              "      <td>38</td>\n",
              "      <td>0.0</td>\n",
              "      <td>38</td>\n",
              "      <td>0</td>\n",
              "      <td>...</td>\n",
              "      <td>20</td>\n",
              "      <td>0.0</td>\n",
              "      <td>0.0</td>\n",
              "      <td>0.0</td>\n",
              "      <td>0.0</td>\n",
              "      <td>0.0</td>\n",
              "      <td>0.0</td>\n",
              "      <td>0.0</td>\n",
              "      <td>0.0</td>\n",
              "      <td>Benign</td>\n",
              "    </tr>\n",
              "    <tr>\n",
              "      <th>2</th>\n",
              "      <td>443</td>\n",
              "      <td>6</td>\n",
              "      <td>0.033333</td>\n",
              "      <td>279824</td>\n",
              "      <td>11</td>\n",
              "      <td>15</td>\n",
              "      <td>1086</td>\n",
              "      <td>10527.0</td>\n",
              "      <td>385</td>\n",
              "      <td>0</td>\n",
              "      <td>...</td>\n",
              "      <td>20</td>\n",
              "      <td>0.0</td>\n",
              "      <td>0.0</td>\n",
              "      <td>0.0</td>\n",
              "      <td>0.0</td>\n",
              "      <td>0.0</td>\n",
              "      <td>0.0</td>\n",
              "      <td>0.0</td>\n",
              "      <td>0.0</td>\n",
              "      <td>Benign</td>\n",
              "    </tr>\n",
              "    <tr>\n",
              "      <th>3</th>\n",
              "      <td>443</td>\n",
              "      <td>6</td>\n",
              "      <td>0.033333</td>\n",
              "      <td>132</td>\n",
              "      <td>2</td>\n",
              "      <td>0</td>\n",
              "      <td>0</td>\n",
              "      <td>0.0</td>\n",
              "      <td>0</td>\n",
              "      <td>0</td>\n",
              "      <td>...</td>\n",
              "      <td>20</td>\n",
              "      <td>0.0</td>\n",
              "      <td>0.0</td>\n",
              "      <td>0.0</td>\n",
              "      <td>0.0</td>\n",
              "      <td>0.0</td>\n",
              "      <td>0.0</td>\n",
              "      <td>0.0</td>\n",
              "      <td>0.0</td>\n",
              "      <td>Benign</td>\n",
              "    </tr>\n",
              "    <tr>\n",
              "      <th>4</th>\n",
              "      <td>443</td>\n",
              "      <td>6</td>\n",
              "      <td>0.050000</td>\n",
              "      <td>274016</td>\n",
              "      <td>9</td>\n",
              "      <td>13</td>\n",
              "      <td>1285</td>\n",
              "      <td>6141.0</td>\n",
              "      <td>517</td>\n",
              "      <td>0</td>\n",
              "      <td>...</td>\n",
              "      <td>20</td>\n",
              "      <td>0.0</td>\n",
              "      <td>0.0</td>\n",
              "      <td>0.0</td>\n",
              "      <td>0.0</td>\n",
              "      <td>0.0</td>\n",
              "      <td>0.0</td>\n",
              "      <td>0.0</td>\n",
              "      <td>0.0</td>\n",
              "      <td>Benign</td>\n",
              "    </tr>\n",
              "  </tbody>\n",
              "</table>\n",
              "<p>5 rows × 80 columns</p>\n",
              "</div>"
            ],
            "text/plain": [
              "   Dst Port  Protocol  Timestamp  Flow Duration  Tot Fwd Pkts  Tot Bwd Pkts  \\\n",
              "0       443         6   0.000000         141385             9             7   \n",
              "1     49684         6   0.000000            281             2             1   \n",
              "2       443         6   0.033333         279824            11            15   \n",
              "3       443         6   0.033333            132             2             0   \n",
              "4       443         6   0.050000         274016             9            13   \n",
              "\n",
              "   TotLen Fwd Pkts  TotLen Bwd Pkts  Fwd Pkt Len Max  Fwd Pkt Len Min  ...  \\\n",
              "0              553           3773.0              202                0  ...   \n",
              "1               38              0.0               38                0  ...   \n",
              "2             1086          10527.0              385                0  ...   \n",
              "3                0              0.0                0                0  ...   \n",
              "4             1285           6141.0              517                0  ...   \n",
              "\n",
              "   Fwd Seg Size Min  Active Mean  Active Std  Active Max  Active Min  \\\n",
              "0                20          0.0         0.0         0.0         0.0   \n",
              "1                20          0.0         0.0         0.0         0.0   \n",
              "2                20          0.0         0.0         0.0         0.0   \n",
              "3                20          0.0         0.0         0.0         0.0   \n",
              "4                20          0.0         0.0         0.0         0.0   \n",
              "\n",
              "   Idle Mean  Idle Std  Idle Max  Idle Min   Label  \n",
              "0        0.0       0.0       0.0       0.0  Benign  \n",
              "1        0.0       0.0       0.0       0.0  Benign  \n",
              "2        0.0       0.0       0.0       0.0  Benign  \n",
              "3        0.0       0.0       0.0       0.0  Benign  \n",
              "4        0.0       0.0       0.0       0.0  Benign  \n",
              "\n",
              "[5 rows x 80 columns]"
            ]
          },
          "execution_count": 20,
          "metadata": {},
          "output_type": "execute_result"
        }
      ],
      "source": [
        "df.head()"
      ]
    },
    {
      "cell_type": "code",
      "execution_count": 21,
      "metadata": {
        "id": "lMVsyxGzJzZS"
      },
      "outputs": [
        {
          "data": {
            "text/plain": [
              "Benign    762384\n",
              "Bot       286191\n",
              "Name: Label, dtype: int64"
            ]
          },
          "execution_count": 21,
          "metadata": {},
          "output_type": "execute_result"
        }
      ],
      "source": [
        "df.Label.value_counts()"
      ]
    },
    {
      "cell_type": "code",
      "execution_count": 22,
      "metadata": {
        "id": "8on29N1_K7GU"
      },
      "outputs": [
        {
          "data": {
            "text/plain": [
              "(1048575, 80)"
            ]
          },
          "execution_count": 22,
          "metadata": {},
          "output_type": "execute_result"
        }
      ],
      "source": [
        "df.shape"
      ]
    },
    {
      "cell_type": "code",
      "execution_count": 23,
      "metadata": {
        "id": "hScTIRl6McOC"
      },
      "outputs": [
        {
          "data": {
            "text/html": [
              "<div>\n",
              "<style scoped>\n",
              "    .dataframe tbody tr th:only-of-type {\n",
              "        vertical-align: middle;\n",
              "    }\n",
              "\n",
              "    .dataframe tbody tr th {\n",
              "        vertical-align: top;\n",
              "    }\n",
              "\n",
              "    .dataframe thead th {\n",
              "        text-align: right;\n",
              "    }\n",
              "</style>\n",
              "<table border=\"1\" class=\"dataframe\">\n",
              "  <thead>\n",
              "    <tr style=\"text-align: right;\">\n",
              "      <th></th>\n",
              "      <th>Dst Port</th>\n",
              "      <th>Protocol</th>\n",
              "      <th>Timestamp</th>\n",
              "      <th>Flow Duration</th>\n",
              "      <th>Tot Fwd Pkts</th>\n",
              "      <th>Tot Bwd Pkts</th>\n",
              "      <th>TotLen Fwd Pkts</th>\n",
              "      <th>TotLen Bwd Pkts</th>\n",
              "      <th>Fwd Pkt Len Max</th>\n",
              "      <th>Fwd Pkt Len Min</th>\n",
              "      <th>...</th>\n",
              "      <th>Fwd Seg Size Min</th>\n",
              "      <th>Active Mean</th>\n",
              "      <th>Active Std</th>\n",
              "      <th>Active Max</th>\n",
              "      <th>Active Min</th>\n",
              "      <th>Idle Mean</th>\n",
              "      <th>Idle Std</th>\n",
              "      <th>Idle Max</th>\n",
              "      <th>Idle Min</th>\n",
              "      <th>Label</th>\n",
              "    </tr>\n",
              "  </thead>\n",
              "  <tbody>\n",
              "    <tr>\n",
              "      <th>0</th>\n",
              "      <td>443</td>\n",
              "      <td>6</td>\n",
              "      <td>0.000000</td>\n",
              "      <td>141385</td>\n",
              "      <td>9</td>\n",
              "      <td>7</td>\n",
              "      <td>553</td>\n",
              "      <td>3773.0</td>\n",
              "      <td>202</td>\n",
              "      <td>0</td>\n",
              "      <td>...</td>\n",
              "      <td>20</td>\n",
              "      <td>0.0</td>\n",
              "      <td>0.0</td>\n",
              "      <td>0.0</td>\n",
              "      <td>0.0</td>\n",
              "      <td>0.0</td>\n",
              "      <td>0.0</td>\n",
              "      <td>0.0</td>\n",
              "      <td>0.0</td>\n",
              "      <td>Benign</td>\n",
              "    </tr>\n",
              "    <tr>\n",
              "      <th>1</th>\n",
              "      <td>49684</td>\n",
              "      <td>6</td>\n",
              "      <td>0.000000</td>\n",
              "      <td>281</td>\n",
              "      <td>2</td>\n",
              "      <td>1</td>\n",
              "      <td>38</td>\n",
              "      <td>0.0</td>\n",
              "      <td>38</td>\n",
              "      <td>0</td>\n",
              "      <td>...</td>\n",
              "      <td>20</td>\n",
              "      <td>0.0</td>\n",
              "      <td>0.0</td>\n",
              "      <td>0.0</td>\n",
              "      <td>0.0</td>\n",
              "      <td>0.0</td>\n",
              "      <td>0.0</td>\n",
              "      <td>0.0</td>\n",
              "      <td>0.0</td>\n",
              "      <td>Benign</td>\n",
              "    </tr>\n",
              "    <tr>\n",
              "      <th>2</th>\n",
              "      <td>443</td>\n",
              "      <td>6</td>\n",
              "      <td>0.033333</td>\n",
              "      <td>279824</td>\n",
              "      <td>11</td>\n",
              "      <td>15</td>\n",
              "      <td>1086</td>\n",
              "      <td>10527.0</td>\n",
              "      <td>385</td>\n",
              "      <td>0</td>\n",
              "      <td>...</td>\n",
              "      <td>20</td>\n",
              "      <td>0.0</td>\n",
              "      <td>0.0</td>\n",
              "      <td>0.0</td>\n",
              "      <td>0.0</td>\n",
              "      <td>0.0</td>\n",
              "      <td>0.0</td>\n",
              "      <td>0.0</td>\n",
              "      <td>0.0</td>\n",
              "      <td>Benign</td>\n",
              "    </tr>\n",
              "    <tr>\n",
              "      <th>3</th>\n",
              "      <td>443</td>\n",
              "      <td>6</td>\n",
              "      <td>0.033333</td>\n",
              "      <td>132</td>\n",
              "      <td>2</td>\n",
              "      <td>0</td>\n",
              "      <td>0</td>\n",
              "      <td>0.0</td>\n",
              "      <td>0</td>\n",
              "      <td>0</td>\n",
              "      <td>...</td>\n",
              "      <td>20</td>\n",
              "      <td>0.0</td>\n",
              "      <td>0.0</td>\n",
              "      <td>0.0</td>\n",
              "      <td>0.0</td>\n",
              "      <td>0.0</td>\n",
              "      <td>0.0</td>\n",
              "      <td>0.0</td>\n",
              "      <td>0.0</td>\n",
              "      <td>Benign</td>\n",
              "    </tr>\n",
              "    <tr>\n",
              "      <th>4</th>\n",
              "      <td>443</td>\n",
              "      <td>6</td>\n",
              "      <td>0.050000</td>\n",
              "      <td>274016</td>\n",
              "      <td>9</td>\n",
              "      <td>13</td>\n",
              "      <td>1285</td>\n",
              "      <td>6141.0</td>\n",
              "      <td>517</td>\n",
              "      <td>0</td>\n",
              "      <td>...</td>\n",
              "      <td>20</td>\n",
              "      <td>0.0</td>\n",
              "      <td>0.0</td>\n",
              "      <td>0.0</td>\n",
              "      <td>0.0</td>\n",
              "      <td>0.0</td>\n",
              "      <td>0.0</td>\n",
              "      <td>0.0</td>\n",
              "      <td>0.0</td>\n",
              "      <td>Benign</td>\n",
              "    </tr>\n",
              "    <tr>\n",
              "      <th>...</th>\n",
              "      <td>...</td>\n",
              "      <td>...</td>\n",
              "      <td>...</td>\n",
              "      <td>...</td>\n",
              "      <td>...</td>\n",
              "      <td>...</td>\n",
              "      <td>...</td>\n",
              "      <td>...</td>\n",
              "      <td>...</td>\n",
              "      <td>...</td>\n",
              "      <td>...</td>\n",
              "      <td>...</td>\n",
              "      <td>...</td>\n",
              "      <td>...</td>\n",
              "      <td>...</td>\n",
              "      <td>...</td>\n",
              "      <td>...</td>\n",
              "      <td>...</td>\n",
              "      <td>...</td>\n",
              "      <td>...</td>\n",
              "      <td>...</td>\n",
              "    </tr>\n",
              "    <tr>\n",
              "      <th>1048570</th>\n",
              "      <td>3389</td>\n",
              "      <td>6</td>\n",
              "      <td>-399.333333</td>\n",
              "      <td>3982183</td>\n",
              "      <td>14</td>\n",
              "      <td>8</td>\n",
              "      <td>1442</td>\n",
              "      <td>1731.0</td>\n",
              "      <td>725</td>\n",
              "      <td>0</td>\n",
              "      <td>...</td>\n",
              "      <td>20</td>\n",
              "      <td>0.0</td>\n",
              "      <td>0.0</td>\n",
              "      <td>0.0</td>\n",
              "      <td>0.0</td>\n",
              "      <td>0.0</td>\n",
              "      <td>0.0</td>\n",
              "      <td>0.0</td>\n",
              "      <td>0.0</td>\n",
              "      <td>Benign</td>\n",
              "    </tr>\n",
              "    <tr>\n",
              "      <th>1048571</th>\n",
              "      <td>3389</td>\n",
              "      <td>6</td>\n",
              "      <td>-399.266667</td>\n",
              "      <td>3802316</td>\n",
              "      <td>14</td>\n",
              "      <td>8</td>\n",
              "      <td>1440</td>\n",
              "      <td>1731.0</td>\n",
              "      <td>725</td>\n",
              "      <td>0</td>\n",
              "      <td>...</td>\n",
              "      <td>20</td>\n",
              "      <td>0.0</td>\n",
              "      <td>0.0</td>\n",
              "      <td>0.0</td>\n",
              "      <td>0.0</td>\n",
              "      <td>0.0</td>\n",
              "      <td>0.0</td>\n",
              "      <td>0.0</td>\n",
              "      <td>0.0</td>\n",
              "      <td>Benign</td>\n",
              "    </tr>\n",
              "    <tr>\n",
              "      <th>1048572</th>\n",
              "      <td>3389</td>\n",
              "      <td>6</td>\n",
              "      <td>-399.216667</td>\n",
              "      <td>4004239</td>\n",
              "      <td>14</td>\n",
              "      <td>8</td>\n",
              "      <td>1459</td>\n",
              "      <td>1731.0</td>\n",
              "      <td>741</td>\n",
              "      <td>0</td>\n",
              "      <td>...</td>\n",
              "      <td>20</td>\n",
              "      <td>0.0</td>\n",
              "      <td>0.0</td>\n",
              "      <td>0.0</td>\n",
              "      <td>0.0</td>\n",
              "      <td>0.0</td>\n",
              "      <td>0.0</td>\n",
              "      <td>0.0</td>\n",
              "      <td>0.0</td>\n",
              "      <td>Benign</td>\n",
              "    </tr>\n",
              "    <tr>\n",
              "      <th>1048573</th>\n",
              "      <td>3389</td>\n",
              "      <td>6</td>\n",
              "      <td>-399.150000</td>\n",
              "      <td>3998435</td>\n",
              "      <td>14</td>\n",
              "      <td>8</td>\n",
              "      <td>1459</td>\n",
              "      <td>1731.0</td>\n",
              "      <td>741</td>\n",
              "      <td>0</td>\n",
              "      <td>...</td>\n",
              "      <td>20</td>\n",
              "      <td>0.0</td>\n",
              "      <td>0.0</td>\n",
              "      <td>0.0</td>\n",
              "      <td>0.0</td>\n",
              "      <td>0.0</td>\n",
              "      <td>0.0</td>\n",
              "      <td>0.0</td>\n",
              "      <td>0.0</td>\n",
              "      <td>Benign</td>\n",
              "    </tr>\n",
              "    <tr>\n",
              "      <th>1048574</th>\n",
              "      <td>3389</td>\n",
              "      <td>6</td>\n",
              "      <td>-399.083333</td>\n",
              "      <td>3972651</td>\n",
              "      <td>14</td>\n",
              "      <td>8</td>\n",
              "      <td>1439</td>\n",
              "      <td>1731.0</td>\n",
              "      <td>725</td>\n",
              "      <td>0</td>\n",
              "      <td>...</td>\n",
              "      <td>20</td>\n",
              "      <td>0.0</td>\n",
              "      <td>0.0</td>\n",
              "      <td>0.0</td>\n",
              "      <td>0.0</td>\n",
              "      <td>0.0</td>\n",
              "      <td>0.0</td>\n",
              "      <td>0.0</td>\n",
              "      <td>0.0</td>\n",
              "      <td>Benign</td>\n",
              "    </tr>\n",
              "  </tbody>\n",
              "</table>\n",
              "<p>1048575 rows × 80 columns</p>\n",
              "</div>"
            ],
            "text/plain": [
              "         Dst Port  Protocol   Timestamp  Flow Duration  Tot Fwd Pkts  \\\n",
              "0             443         6    0.000000         141385             9   \n",
              "1           49684         6    0.000000            281             2   \n",
              "2             443         6    0.033333         279824            11   \n",
              "3             443         6    0.033333            132             2   \n",
              "4             443         6    0.050000         274016             9   \n",
              "...           ...       ...         ...            ...           ...   \n",
              "1048570      3389         6 -399.333333        3982183            14   \n",
              "1048571      3389         6 -399.266667        3802316            14   \n",
              "1048572      3389         6 -399.216667        4004239            14   \n",
              "1048573      3389         6 -399.150000        3998435            14   \n",
              "1048574      3389         6 -399.083333        3972651            14   \n",
              "\n",
              "         Tot Bwd Pkts  TotLen Fwd Pkts  TotLen Bwd Pkts  Fwd Pkt Len Max  \\\n",
              "0                   7              553           3773.0              202   \n",
              "1                   1               38              0.0               38   \n",
              "2                  15             1086          10527.0              385   \n",
              "3                   0                0              0.0                0   \n",
              "4                  13             1285           6141.0              517   \n",
              "...               ...              ...              ...              ...   \n",
              "1048570             8             1442           1731.0              725   \n",
              "1048571             8             1440           1731.0              725   \n",
              "1048572             8             1459           1731.0              741   \n",
              "1048573             8             1459           1731.0              741   \n",
              "1048574             8             1439           1731.0              725   \n",
              "\n",
              "         Fwd Pkt Len Min  ...  Fwd Seg Size Min  Active Mean  Active Std  \\\n",
              "0                      0  ...                20          0.0         0.0   \n",
              "1                      0  ...                20          0.0         0.0   \n",
              "2                      0  ...                20          0.0         0.0   \n",
              "3                      0  ...                20          0.0         0.0   \n",
              "4                      0  ...                20          0.0         0.0   \n",
              "...                  ...  ...               ...          ...         ...   \n",
              "1048570                0  ...                20          0.0         0.0   \n",
              "1048571                0  ...                20          0.0         0.0   \n",
              "1048572                0  ...                20          0.0         0.0   \n",
              "1048573                0  ...                20          0.0         0.0   \n",
              "1048574                0  ...                20          0.0         0.0   \n",
              "\n",
              "         Active Max  Active Min  Idle Mean  Idle Std  Idle Max  Idle Min  \\\n",
              "0               0.0         0.0        0.0       0.0       0.0       0.0   \n",
              "1               0.0         0.0        0.0       0.0       0.0       0.0   \n",
              "2               0.0         0.0        0.0       0.0       0.0       0.0   \n",
              "3               0.0         0.0        0.0       0.0       0.0       0.0   \n",
              "4               0.0         0.0        0.0       0.0       0.0       0.0   \n",
              "...             ...         ...        ...       ...       ...       ...   \n",
              "1048570         0.0         0.0        0.0       0.0       0.0       0.0   \n",
              "1048571         0.0         0.0        0.0       0.0       0.0       0.0   \n",
              "1048572         0.0         0.0        0.0       0.0       0.0       0.0   \n",
              "1048573         0.0         0.0        0.0       0.0       0.0       0.0   \n",
              "1048574         0.0         0.0        0.0       0.0       0.0       0.0   \n",
              "\n",
              "          Label  \n",
              "0        Benign  \n",
              "1        Benign  \n",
              "2        Benign  \n",
              "3        Benign  \n",
              "4        Benign  \n",
              "...         ...  \n",
              "1048570  Benign  \n",
              "1048571  Benign  \n",
              "1048572  Benign  \n",
              "1048573  Benign  \n",
              "1048574  Benign  \n",
              "\n",
              "[1048575 rows x 80 columns]"
            ]
          },
          "execution_count": 23,
          "metadata": {},
          "output_type": "execute_result"
        }
      ],
      "source": [
        "df"
      ]
    },
    {
      "cell_type": "code",
      "execution_count": 24,
      "metadata": {
        "id": "Fvg3ut3edXf_"
      },
      "outputs": [
        {
          "name": "stdout",
          "output_type": "stream",
          "text": [
            "0          Benign\n",
            "1          Benign\n",
            "2          Benign\n",
            "3          Benign\n",
            "4          Benign\n",
            "            ...  \n",
            "1048570    Benign\n",
            "1048571    Benign\n",
            "1048572    Benign\n",
            "1048573    Benign\n",
            "1048574    Benign\n",
            "Name: Label, Length: 1048575, dtype: object\n"
          ]
        }
      ],
      "source": [
        "print(df.Label)"
      ]
    },
    {
      "cell_type": "code",
      "execution_count": 25,
      "metadata": {
        "id": "3Cu2wFppPTOG"
      },
      "outputs": [],
      "source": [
        "features = df.dtypes[df.dtypes != 'object'].index\n",
        "df[features] = df[features].apply(\n",
        "    lambda x: (x - x.mean()) / (x.std()))\n",
        "# Fill empty values by 0\n",
        "df = df.fillna(0)"
      ]
    },
    {
      "cell_type": "code",
      "execution_count": 26,
      "metadata": {
        "id": "Pj2uQQpzdmP2"
      },
      "outputs": [
        {
          "name": "stdout",
          "output_type": "stream",
          "text": [
            "0          Benign\n",
            "1          Benign\n",
            "2          Benign\n",
            "3          Benign\n",
            "4          Benign\n",
            "            ...  \n",
            "1048570    Benign\n",
            "1048571    Benign\n",
            "1048572    Benign\n",
            "1048573    Benign\n",
            "1048574    Benign\n",
            "Name: Label, Length: 1048575, dtype: object\n"
          ]
        }
      ],
      "source": [
        "print(df.Label)"
      ]
    },
    {
      "cell_type": "code",
      "execution_count": 27,
      "metadata": {
        "id": "g5Ja_ZfceTNr"
      },
      "outputs": [],
      "source": [
        "index_to_drop=867687\n",
        "df=df.drop(index_to_drop)"
      ]
    },
    {
      "cell_type": "code",
      "execution_count": 28,
      "metadata": {
        "id": "g758vxmdPXhl"
      },
      "outputs": [
        {
          "data": {
            "text/html": [
              "<div>\n",
              "<style scoped>\n",
              "    .dataframe tbody tr th:only-of-type {\n",
              "        vertical-align: middle;\n",
              "    }\n",
              "\n",
              "    .dataframe tbody tr th {\n",
              "        vertical-align: top;\n",
              "    }\n",
              "\n",
              "    .dataframe thead th {\n",
              "        text-align: right;\n",
              "    }\n",
              "</style>\n",
              "<table border=\"1\" class=\"dataframe\">\n",
              "  <thead>\n",
              "    <tr style=\"text-align: right;\">\n",
              "      <th></th>\n",
              "      <th>Dst Port</th>\n",
              "      <th>Protocol</th>\n",
              "      <th>Timestamp</th>\n",
              "      <th>Flow Duration</th>\n",
              "      <th>Tot Fwd Pkts</th>\n",
              "      <th>Tot Bwd Pkts</th>\n",
              "      <th>TotLen Fwd Pkts</th>\n",
              "      <th>TotLen Bwd Pkts</th>\n",
              "      <th>Fwd Pkt Len Max</th>\n",
              "      <th>Fwd Pkt Len Min</th>\n",
              "      <th>...</th>\n",
              "      <th>Fwd Seg Size Min</th>\n",
              "      <th>Active Mean</th>\n",
              "      <th>Active Std</th>\n",
              "      <th>Active Max</th>\n",
              "      <th>Active Min</th>\n",
              "      <th>Idle Mean</th>\n",
              "      <th>Idle Std</th>\n",
              "      <th>Idle Max</th>\n",
              "      <th>Idle Min</th>\n",
              "      <th>Label</th>\n",
              "    </tr>\n",
              "  </thead>\n",
              "  <tbody>\n",
              "    <tr>\n",
              "      <th>0</th>\n",
              "      <td>-0.526353</td>\n",
              "      <td>-0.462445</td>\n",
              "      <td>0.388363</td>\n",
              "      <td>-0.377570</td>\n",
              "      <td>0.034961</td>\n",
              "      <td>0.000079</td>\n",
              "      <td>0.074506</td>\n",
              "      <td>-0.004851</td>\n",
              "      <td>-0.031583</td>\n",
              "      <td>-0.393762</td>\n",
              "      <td>...</td>\n",
              "      <td>0.491544</td>\n",
              "      <td>-0.059026</td>\n",
              "      <td>-0.048593</td>\n",
              "      <td>-0.068994</td>\n",
              "      <td>-0.047195</td>\n",
              "      <td>-0.274575</td>\n",
              "      <td>-0.072762</td>\n",
              "      <td>-0.276853</td>\n",
              "      <td>-0.269833</td>\n",
              "      <td>Benign</td>\n",
              "    </tr>\n",
              "    <tr>\n",
              "      <th>1</th>\n",
              "      <td>2.721358</td>\n",
              "      <td>-0.462445</td>\n",
              "      <td>0.388363</td>\n",
              "      <td>-0.382254</td>\n",
              "      <td>-0.043661</td>\n",
              "      <td>-0.028096</td>\n",
              "      <td>-0.163944</td>\n",
              "      <td>-0.017066</td>\n",
              "      <td>-0.645931</td>\n",
              "      <td>-0.393762</td>\n",
              "      <td>...</td>\n",
              "      <td>0.491544</td>\n",
              "      <td>-0.059026</td>\n",
              "      <td>-0.048593</td>\n",
              "      <td>-0.068994</td>\n",
              "      <td>-0.047195</td>\n",
              "      <td>-0.274575</td>\n",
              "      <td>-0.072762</td>\n",
              "      <td>-0.276853</td>\n",
              "      <td>-0.269833</td>\n",
              "      <td>Benign</td>\n",
              "    </tr>\n",
              "    <tr>\n",
              "      <th>2</th>\n",
              "      <td>-0.526353</td>\n",
              "      <td>-0.462445</td>\n",
              "      <td>0.388500</td>\n",
              "      <td>-0.372974</td>\n",
              "      <td>0.057425</td>\n",
              "      <td>0.037645</td>\n",
              "      <td>0.321290</td>\n",
              "      <td>0.017016</td>\n",
              "      <td>0.653939</td>\n",
              "      <td>-0.393762</td>\n",
              "      <td>...</td>\n",
              "      <td>0.491544</td>\n",
              "      <td>-0.059026</td>\n",
              "      <td>-0.048593</td>\n",
              "      <td>-0.068994</td>\n",
              "      <td>-0.047195</td>\n",
              "      <td>-0.274575</td>\n",
              "      <td>-0.072762</td>\n",
              "      <td>-0.276853</td>\n",
              "      <td>-0.269833</td>\n",
              "      <td>Benign</td>\n",
              "    </tr>\n",
              "    <tr>\n",
              "      <th>3</th>\n",
              "      <td>-0.526353</td>\n",
              "      <td>-0.462445</td>\n",
              "      <td>0.388500</td>\n",
              "      <td>-0.382259</td>\n",
              "      <td>-0.043661</td>\n",
              "      <td>-0.032791</td>\n",
              "      <td>-0.181539</td>\n",
              "      <td>-0.017066</td>\n",
              "      <td>-0.788280</td>\n",
              "      <td>-0.393762</td>\n",
              "      <td>...</td>\n",
              "      <td>0.491544</td>\n",
              "      <td>-0.059026</td>\n",
              "      <td>-0.048593</td>\n",
              "      <td>-0.068994</td>\n",
              "      <td>-0.047195</td>\n",
              "      <td>-0.274575</td>\n",
              "      <td>-0.072762</td>\n",
              "      <td>-0.276853</td>\n",
              "      <td>-0.269833</td>\n",
              "      <td>Benign</td>\n",
              "    </tr>\n",
              "    <tr>\n",
              "      <th>4</th>\n",
              "      <td>-0.526353</td>\n",
              "      <td>-0.462445</td>\n",
              "      <td>0.388568</td>\n",
              "      <td>-0.373166</td>\n",
              "      <td>0.034961</td>\n",
              "      <td>0.028254</td>\n",
              "      <td>0.413429</td>\n",
              "      <td>0.002816</td>\n",
              "      <td>1.148414</td>\n",
              "      <td>-0.393762</td>\n",
              "      <td>...</td>\n",
              "      <td>0.491544</td>\n",
              "      <td>-0.059026</td>\n",
              "      <td>-0.048593</td>\n",
              "      <td>-0.068994</td>\n",
              "      <td>-0.047195</td>\n",
              "      <td>-0.274575</td>\n",
              "      <td>-0.072762</td>\n",
              "      <td>-0.276853</td>\n",
              "      <td>-0.269833</td>\n",
              "      <td>Benign</td>\n",
              "    </tr>\n",
              "  </tbody>\n",
              "</table>\n",
              "<p>5 rows × 80 columns</p>\n",
              "</div>"
            ],
            "text/plain": [
              "   Dst Port  Protocol  Timestamp  Flow Duration  Tot Fwd Pkts  Tot Bwd Pkts  \\\n",
              "0 -0.526353 -0.462445   0.388363      -0.377570      0.034961      0.000079   \n",
              "1  2.721358 -0.462445   0.388363      -0.382254     -0.043661     -0.028096   \n",
              "2 -0.526353 -0.462445   0.388500      -0.372974      0.057425      0.037645   \n",
              "3 -0.526353 -0.462445   0.388500      -0.382259     -0.043661     -0.032791   \n",
              "4 -0.526353 -0.462445   0.388568      -0.373166      0.034961      0.028254   \n",
              "\n",
              "   TotLen Fwd Pkts  TotLen Bwd Pkts  Fwd Pkt Len Max  Fwd Pkt Len Min  ...  \\\n",
              "0         0.074506        -0.004851        -0.031583        -0.393762  ...   \n",
              "1        -0.163944        -0.017066        -0.645931        -0.393762  ...   \n",
              "2         0.321290         0.017016         0.653939        -0.393762  ...   \n",
              "3        -0.181539        -0.017066        -0.788280        -0.393762  ...   \n",
              "4         0.413429         0.002816         1.148414        -0.393762  ...   \n",
              "\n",
              "   Fwd Seg Size Min  Active Mean  Active Std  Active Max  Active Min  \\\n",
              "0          0.491544    -0.059026   -0.048593   -0.068994   -0.047195   \n",
              "1          0.491544    -0.059026   -0.048593   -0.068994   -0.047195   \n",
              "2          0.491544    -0.059026   -0.048593   -0.068994   -0.047195   \n",
              "3          0.491544    -0.059026   -0.048593   -0.068994   -0.047195   \n",
              "4          0.491544    -0.059026   -0.048593   -0.068994   -0.047195   \n",
              "\n",
              "   Idle Mean  Idle Std  Idle Max  Idle Min   Label  \n",
              "0  -0.274575 -0.072762 -0.276853 -0.269833  Benign  \n",
              "1  -0.274575 -0.072762 -0.276853 -0.269833  Benign  \n",
              "2  -0.274575 -0.072762 -0.276853 -0.269833  Benign  \n",
              "3  -0.274575 -0.072762 -0.276853 -0.269833  Benign  \n",
              "4  -0.274575 -0.072762 -0.276853 -0.269833  Benign  \n",
              "\n",
              "[5 rows x 80 columns]"
            ]
          },
          "execution_count": 28,
          "metadata": {},
          "output_type": "execute_result"
        }
      ],
      "source": [
        "df.head()"
      ]
    },
    {
      "cell_type": "code",
      "execution_count": 29,
      "metadata": {
        "id": "iZtIiJEgdJoR"
      },
      "outputs": [
        {
          "name": "stdout",
          "output_type": "stream",
          "text": [
            "0          Benign\n",
            "1          Benign\n",
            "2          Benign\n",
            "3          Benign\n",
            "4          Benign\n",
            "            ...  \n",
            "1048570    Benign\n",
            "1048571    Benign\n",
            "1048572    Benign\n",
            "1048573    Benign\n",
            "1048574    Benign\n",
            "Name: Label, Length: 1048574, dtype: object\n"
          ]
        }
      ],
      "source": [
        "print(df.Label)"
      ]
    },
    {
      "cell_type": "code",
      "execution_count": 30,
      "metadata": {
        "id": "BsdkgqQjQ3a2"
      },
      "outputs": [],
      "source": [
        "X=df.drop('Label',axis='columns')\n",
        "y=df.Label\n"
      ]
    },
    {
      "cell_type": "code",
      "execution_count": 31,
      "metadata": {
        "id": "oyZPNpsacuqT"
      },
      "outputs": [
        {
          "data": {
            "text/plain": [
              "0          Benign\n",
              "1          Benign\n",
              "2          Benign\n",
              "3          Benign\n",
              "4          Benign\n",
              "            ...  \n",
              "1048570    Benign\n",
              "1048571    Benign\n",
              "1048572    Benign\n",
              "1048573    Benign\n",
              "1048574    Benign\n",
              "Name: Label, Length: 1048574, dtype: object"
            ]
          },
          "execution_count": 31,
          "metadata": {},
          "output_type": "execute_result"
        }
      ],
      "source": [
        "y"
      ]
    },
    {
      "cell_type": "code",
      "execution_count": 32,
      "metadata": {
        "id": "EUhghfEqPqQs"
      },
      "outputs": [],
      "source": [
        " X = X.astype(float)\n"
      ]
    },
    {
      "cell_type": "code",
      "execution_count": 33,
      "metadata": {
        "id": "wxPdlAICQDUc"
      },
      "outputs": [],
      "source": [
        "from sklearn.model_selection import train_test_split\n",
        "from imblearn.over_sampling import SMOTE"
      ]
    },
    {
      "cell_type": "code",
      "execution_count": 34,
      "metadata": {
        "id": "X50joqkjQNRW"
      },
      "outputs": [],
      "source": [
        "X_train,X_test,y_train,y_test=train_test_split(X,y,test_size=0.2,random_state=0)\n"
      ]
    },
    {
      "cell_type": "code",
      "execution_count": 35,
      "metadata": {
        "id": "xxQZHfZRk4V2"
      },
      "outputs": [],
      "source": [
        "sm = SMOTE(random_state = 2)\n",
        "X_train_res, y_train_res = sm.fit_resample(X_train, y_train.ravel())"
      ]
    },
    {
      "cell_type": "code",
      "execution_count": 36,
      "metadata": {
        "id": "5xUyET1NqJnI"
      },
      "outputs": [
        {
          "name": "stdout",
          "output_type": "stream",
          "text": [
            "Before OverSampling, counts of label '1': 0\n",
            "Before OverSampling, counts of label '0': 0 \n",
            "\n"
          ]
        }
      ],
      "source": [
        "print(\"Before OverSampling, counts of label '1': {}\".format(sum(y_train == 1)))\n",
        "print(\"Before OverSampling, counts of label '0': {} \\n\".format(sum(y_train == 0)))"
      ]
    },
    {
      "cell_type": "code",
      "execution_count": 37,
      "metadata": {
        "id": "1BeykLm3n6vN"
      },
      "outputs": [
        {
          "name": "stdout",
          "output_type": "stream",
          "text": [
            "After OverSampling, the shape of train_X: (1219740, 79)\n",
            "After OverSampling, the shape of train_y: (1219740,) \n",
            "\n"
          ]
        }
      ],
      "source": [
        "print('After OverSampling, the shape of train_X: {}'.format(X_train_res.shape))\n",
        "print('After OverSampling, the shape of train_y: {} \\n'.format(y_train_res.shape))"
      ]
    },
    {
      "cell_type": "code",
      "execution_count": 38,
      "metadata": {
        "id": "1xdbaEIMqs9Q"
      },
      "outputs": [
        {
          "name": "stdout",
          "output_type": "stream",
          "text": [
            "After OverSampling, counts of label '1': 0\n",
            "After OverSampling, counts of label '0': 0\n"
          ]
        }
      ],
      "source": [
        "print(\"After OverSampling, counts of label '1': {}\".format(sum(y_train_res == 1)))\n",
        "print(\"After OverSampling, counts of label '0': {}\".format(sum(y_train_res == 0)))"
      ]
    },
    {
      "cell_type": "code",
      "execution_count": 39,
      "metadata": {
        "id": "x-JlrbEtmQsU"
      },
      "outputs": [],
      "source": [
        "from sklearn.model_selection import KFold\n",
        "from sklearn.model_selection import cross_val_score"
      ]
    },
    {
      "cell_type": "code",
      "execution_count": 40,
      "metadata": {
        "id": "QUZm32cXmfTz"
      },
      "outputs": [],
      "source": [
        "num_folds = 5\n",
        "kfold = KFold(n_splits=num_folds, shuffle=True, random_state=42)"
      ]
    },
    {
      "cell_type": "code",
      "execution_count": 41,
      "metadata": {
        "id": "g8CdI9fdj3Ek"
      },
      "outputs": [],
      "source": [
        "from sklearn import tree"
      ]
    },
    {
      "cell_type": "code",
      "execution_count": 42,
      "metadata": {
        "id": "rg6CEk4nQjJF"
      },
      "outputs": [
        {
          "data": {
            "text/plain": [
              "0.9999761581193525"
            ]
          },
          "execution_count": 42,
          "metadata": {},
          "output_type": "execute_result"
        }
      ],
      "source": [
        "model1 = tree.DecisionTreeClassifier()\n",
        "scores = cross_val_score(model1, X, y, cv=kfold)\n",
        "model1.fit(X_train_res, y_train_res)\n",
        "model1.score(X_train_res, y_train_res)\n",
        "model1.score(X_test, y_test)"
      ]
    },
    {
      "cell_type": "code",
      "execution_count": 43,
      "metadata": {
        "id": "gYLYWAU0m7gg"
      },
      "outputs": [
        {
          "name": "stdout",
          "output_type": "stream",
          "text": [
            "Fold 1: Score = 0.9999761581193525\n",
            "Fold 2: Score = 0.999971389743223\n",
            "Fold 3: Score = 0.9999952316238705\n",
            "Fold 4: Score = 0.9999856948716115\n",
            "Fold 5: Score = 0.9999856948033989\n",
            "Average Score: 0.9999828338322914\n"
          ]
        }
      ],
      "source": [
        "for fold_idx, score in enumerate(scores):\n",
        "    print(f\"Fold {fold_idx+1}: Score = {score}\")\n",
        "\n",
        "print(f\"Average Score: {np.mean(scores)}\")"
      ]
    },
    {
      "cell_type": "code",
      "execution_count": 44,
      "metadata": {
        "id": "drqjT0bWosHE"
      },
      "outputs": [],
      "source": [
        "from sklearn.metrics import precision_recall_fscore_support\n",
        "y_pred = model1.predict(X_test)"
      ]
    },
    {
      "cell_type": "code",
      "execution_count": 45,
      "metadata": {
        "id": "qfTdoMIPtz5W"
      },
      "outputs": [
        {
          "name": "stdout",
          "output_type": "stream",
          "text": [
            "875681     Benign\n",
            "1046906    Benign\n",
            "646861     Benign\n",
            "704385     Benign\n",
            "798051     Benign\n",
            "            ...  \n",
            "986581     Benign\n",
            "916423     Benign\n",
            "73306         Bot\n",
            "565582     Benign\n",
            "754044     Benign\n",
            "Name: Label, Length: 209715, dtype: object\n"
          ]
        }
      ],
      "source": [
        "print(y_test)"
      ]
    },
    {
      "cell_type": "code",
      "execution_count": 46,
      "metadata": {
        "id": "crOE60qytRuc"
      },
      "outputs": [],
      "source": [
        "precision, recall, f1, _ = precision_recall_fscore_support(y_test, y_pred)"
      ]
    },
    {
      "cell_type": "code",
      "execution_count": 47,
      "metadata": {
        "id": "ahCLpViBv8bp"
      },
      "outputs": [
        {
          "name": "stdout",
          "output_type": "stream",
          "text": [
            "875681     Benign\n",
            "1046906    Benign\n",
            "646861     Benign\n",
            "704385     Benign\n",
            "798051     Benign\n",
            "            ...  \n",
            "986581     Benign\n",
            "916423     Benign\n",
            "73306         Bot\n",
            "565582     Benign\n",
            "754044     Benign\n",
            "Name: Label, Length: 209715, dtype: object\n"
          ]
        }
      ],
      "source": [
        "print(y_test)"
      ]
    },
    {
      "cell_type": "code",
      "execution_count": 48,
      "metadata": {
        "id": "ikGs795XtWMJ"
      },
      "outputs": [
        {
          "name": "stdout",
          "output_type": "stream",
          "text": [
            "Label 0:\n",
            "  Precision: 1.0\n",
            "  Recall: 0.9999672159094635\n",
            "  F1 Score: 0.9999836076860282\n",
            "Label 1:\n",
            "  Precision: 0.9999125981086231\n",
            "  Recall: 1.0\n",
            "  F1 Score: 0.9999562971444553\n"
          ]
        }
      ],
      "source": [
        "for Label in range(len(precision)):\n",
        "    print(f\"Label {Label}:\")\n",
        "    print(f\"  Precision: {precision[Label]}\")\n",
        "    print(f\"  Recall: {recall[Label]}\")\n",
        "    print(f\"  F1 Score: {f1[Label]}\")"
      ]
    },
    {
      "cell_type": "code",
      "execution_count": 49,
      "metadata": {
        "id": "H1Jbe5xsjZh9"
      },
      "outputs": [],
      "source": [
        "from sklearn.linear_model import LogisticRegression"
      ]
    },
    {
      "cell_type": "code",
      "execution_count": 50,
      "metadata": {
        "id": "dsOjXEJkQnSe"
      },
      "outputs": [
        {
          "name": "stderr",
          "output_type": "stream",
          "text": [
            "c:\\Users\\satya\\AppData\\Local\\Programs\\Python\\Python39\\lib\\site-packages\\sklearn\\linear_model\\_logistic.py:444: ConvergenceWarning: lbfgs failed to converge (status=1):\n",
            "STOP: TOTAL NO. of ITERATIONS REACHED LIMIT.\n",
            "\n",
            "Increase the number of iterations (max_iter) or scale the data as shown in:\n",
            "    https://scikit-learn.org/stable/modules/preprocessing.html\n",
            "Please also refer to the documentation for alternative solver options:\n",
            "    https://scikit-learn.org/stable/modules/linear_model.html#logistic-regression\n",
            "  n_iter_i = _check_optimize_result(\n"
          ]
        },
        {
          "data": {
            "text/plain": [
              "0.986352907517345"
            ]
          },
          "execution_count": 50,
          "metadata": {},
          "output_type": "execute_result"
        }
      ],
      "source": [
        "model2 = LogisticRegression()\n",
        "model2.fit(X_train_res, y_train_res)\n",
        "model2.score(X_train_res, y_train_res)\n",
        "model2.score(X_test, y_test)"
      ]
    }
  ],
  "metadata": {
    "colab": {
      "provenance": []
    },
    "kernelspec": {
      "display_name": "Python 3",
      "name": "python3"
    },
    "language_info": {
      "codemirror_mode": {
        "name": "ipython",
        "version": 3
      },
      "file_extension": ".py",
      "mimetype": "text/x-python",
      "name": "python",
      "nbconvert_exporter": "python",
      "pygments_lexer": "ipython3",
      "version": "3.9.6"
    }
  },
  "nbformat": 4,
  "nbformat_minor": 0
}
